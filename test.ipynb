{
 "cells": [
  {
   "cell_type": "code",
   "execution_count": 1,
   "metadata": {},
   "outputs": [],
   "source": [
    "import torch\n",
    "import numpy as np\n",
    "import matplotlib.pyplot as plt\n",
    "import matplotlib.colors as mcolors"
   ]
  },
  {
   "cell_type": "code",
   "execution_count": 2,
   "metadata": {},
   "outputs": [],
   "source": [
    "from instance_sensitive_metrics import panoptic_dice # One to One\n",
    "from instance_sensitive_metrics import cc_dice # Psuedo One to One\n",
    "from instance_sensitive_metrics import lesion_wise_dice # Many to 1\n",
    "from instance_sensitive_metrics import cluster_dice # Many to Many"
   ]
  },
  {
   "cell_type": "code",
   "execution_count": 3,
   "metadata": {},
   "outputs": [
    {
     "data": {
      "image/png": "[encoded data removed]",
      "text/plain": [
       "<Figure size 1500x500 with 3 Axes>"
      ]
     },
     "metadata": {},
     "output_type": "display_data"
    }
   ],
   "source": [
    "# Sample Data\n",
    "pred = torch.zeros((35, 35)).cuda()\n",
    "gt = torch.zeros((35, 35)).cuda()\n",
    "\n",
    "# Class 1 - Both pred and gt have the same region\n",
    "pred[1:23, 1:23] = 1\n",
    "gt[1:23, 1:23] = 1\n",
    "\n",
    "# Class 2 - Different regions in pred and gt\n",
    "pred[25:32, 5:10] = 2\n",
    "gt[25:32, 7:12] = 2  # Slight offset for partial overlap\n",
    "\n",
    "# Class 3 - Completely different regions\n",
    "pred[5:10, 25:32] = 3\n",
    "gt[7:12, 27:34] = 3\n",
    "\n",
    "# Class 4 - No prediction, only ground truth\n",
    "gt[25:28, 25:28] = 4\n",
    "\n",
    "# Class 5 - Only prediction, no ground truth\n",
    "pred[15:20, 25:30] = 5\n",
    "\n",
    "# Define a fixed colormap and normalization\n",
    "num_classes = 6  # Including 0 (background)\n",
    "colors = plt.cm.tab20(np.linspace(0, 1, num_classes))  # Generate distinct colors\n",
    "cmap = mcolors.ListedColormap(colors)\n",
    "norm = mcolors.BoundaryNorm(boundaries=np.arange(num_classes + 1) - 0.5, ncolors=num_classes)\n",
    "\n",
    "# Plot\n",
    "fig, ax = plt.subplots(1, 3, figsize=(15, 5))\n",
    "ax[0].imshow(pred.cpu(), cmap=cmap, norm=norm)\n",
    "ax[0].set_title('Prediction')\n",
    "ax[1].imshow(gt.cpu(), cmap=cmap, norm=norm)\n",
    "ax[1].set_title('Ground Truth')\n",
    "ax[2].imshow(pred.cpu() == gt.cpu(), cmap='gray')\n",
    "ax[2].set_title('Overlay')\n",
    "\n",
    "plt.show()"
   ]
  },
  {
   "cell_type": "code",
   "execution_count": 4,
   "metadata": {},
   "outputs": [
    {
     "name": "stdout",
     "output_type": "stream",
     "text": [
      "          Metric  Overall Score\n",
      "         CC Dice       0.405714\n",
      "   Panoptic Dice       0.405714\n",
      "Lesion-wise Dice       0.405714\n",
      "    Cluster Dice       0.405714\n",
      "\n"
     ]
    }
   ],
   "source": [
    "import pandas as pd\n",
    "\n",
    "# Helper function to compare scores across metrics\n",
    "panoptic_dice_score = panoptic_dice(pred, gt, metric=\"dice\")\n",
    "cc_dice_score = cc_dice(pred, gt, metric=\"dice\")\n",
    "cluster_dice_score = cluster_dice(pred, gt, metric=\"dice\")\n",
    "lesion_wise_dice_score = lesion_wise_dice(pred, gt, metric=\"dice\")\n",
    "\n",
    "# Tabulate results (Turn Tensor to float for display)\n",
    "overall_scores = pd.DataFrame({\n",
    "    \"Metric\": [\"CC Dice\", \"Panoptic Dice\", \"Lesion-wise Dice\", \"Cluster Dice\"],\n",
    "    \"Overall Score\": [cc_dice_score.item(), panoptic_dice_score, lesion_wise_dice_score.item(), cluster_dice_score.item()]\n",
    "})\n",
    "\n",
    "print(overall_scores.to_string(index=False) + \"\\n\")"
   ]
  },
  {
   "cell_type": "code",
   "execution_count": 5,
   "metadata": {},
   "outputs": [
    {
     "name": "stdout",
     "output_type": "stream",
     "text": [
      "          Metric  Overall Score\n",
      "         CC Dice        0.34026\n",
      "   Panoptic Dice        0.34026\n",
      "Lesion-wise Dice        0.34026\n",
      "    Cluster Dice        0.34026\n",
      "\n"
     ]
    }
   ],
   "source": [
    "# Helper function to compare scores across metrics\n",
    "panoptic_dice_score = panoptic_dice(pred, gt, metric=\"iou\")\n",
    "cc_dice_score = cc_dice(pred, gt, metric=\"iou\")\n",
    "cluster_dice_score = cluster_dice(pred, gt, metric=\"iou\")\n",
    "lesion_wise_dice_score = lesion_wise_dice(pred, gt, metric=\"iou\")\n",
    "\n",
    "# Tabulate results (Turn Tensor to float for display)\n",
    "overall_scores = pd.DataFrame({\n",
    "    \"Metric\": [\"CC Dice\", \"Panoptic Dice\", \"Lesion-wise Dice\", \"Cluster Dice\"],\n",
    "    \"Overall Score\": [cc_dice_score.item(), panoptic_dice_score, lesion_wise_dice_score.item(), cluster_dice_score.item()]\n",
    "})\n",
    "\n",
    "print(overall_scores.to_string(index=False) + \"\\n\")"
   ]
  },
  {
   "cell_type": "code",
   "execution_count": 6,
   "metadata": {},
   "outputs": [
    {
     "name": "stdout",
     "output_type": "stream",
     "text": [
      "          Metric  Overall Score\n",
      "         CC Dice           0.36\n",
      "   Panoptic Dice           0.36\n",
      "Lesion-wise Dice           0.36\n",
      "    Cluster Dice           0.36\n",
      "\n"
     ]
    }
   ],
   "source": [
    "# Helper function to compare scores across metrics\n",
    "panoptic_dice_score = panoptic_dice(pred, gt, metric=\"nsd\")\n",
    "cc_dice_score = cc_dice(pred, gt, metric=\"nsd\")\n",
    "cluster_dice_score = cluster_dice(pred, gt, metric=\"nsd\")\n",
    "lesion_wise_dice_score = lesion_wise_dice(pred, gt, metric=\"nsd\")\n",
    "\n",
    "# Tabulate results (Turn Tensor to float for display)\n",
    "overall_scores = pd.DataFrame({\n",
    "    \"Metric\": [\"CC Dice\", \"Panoptic Dice\", \"Lesion-wise Dice\", \"Cluster Dice\"],\n",
    "    \"Overall Score\": [cc_dice_score.item(), panoptic_dice_score, lesion_wise_dice_score.item(), cluster_dice_score.item()]\n",
    "})\n",
    "\n",
    "print(overall_scores.to_string(index=False) + \"\\n\")"
   ]
  }
 ],
 "metadata": {
  "kernelspec": {
   "display_name": "cucim",
   "language": "python",
   "name": "python3"
  },
  "language_info": {
   "codemirror_mode": {
    "name": "ipython",
    "version": 3
   },
   "file_extension": ".py",
   "mimetype": "text/x-python",
   "name": "python",
   "nbconvert_exporter": "python",
   "pygments_lexer": "ipython3",
   "version": "3.8.19"
  }
 },
 "nbformat": 4,
 "nbformat_minor": 2
}
